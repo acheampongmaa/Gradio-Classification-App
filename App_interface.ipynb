{
 "cells": [
  {
   "cell_type": "code",
   "execution_count": 1,
   "id": "6d0e6659",
   "metadata": {},
   "outputs": [
    {
     "name": "stdout",
     "output_type": "stream",
     "text": [
      "Requirement already satisfied: gradio in c:\\users\\user\\anaconda\\lib\\site-packages (3.24.1)\n",
      "Requirement already satisfied: pydantic in c:\\users\\user\\anaconda\\lib\\site-packages (from gradio) (1.10.4)\n",
      "Requirement already satisfied: pydub in c:\\users\\user\\anaconda\\lib\\site-packages (from gradio) (0.25.1)\n",
      "Requirement already satisfied: ffmpy in c:\\users\\user\\anaconda\\lib\\site-packages (from gradio) (0.3.0)\n",
      "Requirement already satisfied: altair>=4.2.0 in c:\\users\\user\\anaconda\\lib\\site-packages (from gradio) (4.2.2)\n",
      "Requirement already satisfied: httpx in c:\\users\\user\\anaconda\\lib\\site-packages (from gradio) (0.23.3)\n",
      "Requirement already satisfied: matplotlib in c:\\users\\user\\anaconda\\lib\\site-packages (from gradio) (3.5.2)\n",
      "Requirement already satisfied: pyyaml in c:\\users\\user\\anaconda\\lib\\site-packages (from gradio) (6.0)\n",
      "Requirement already satisfied: mdit-py-plugins<=0.3.3 in c:\\users\\user\\anaconda\\lib\\site-packages (from gradio) (0.3.3)\n",
      "Requirement already satisfied: jinja2 in c:\\users\\user\\anaconda\\lib\\site-packages (from gradio) (2.11.3)\n",
      "Requirement already satisfied: requests in c:\\users\\user\\anaconda\\lib\\site-packages (from gradio) (2.28.1)\n",
      "Requirement already satisfied: markdown-it-py[linkify]>=2.0.0 in c:\\users\\user\\anaconda\\lib\\site-packages (from gradio) (2.2.0)\n",
      "Requirement already satisfied: markupsafe in c:\\users\\user\\anaconda\\lib\\site-packages (from gradio) (2.0.1)\n",
      "Requirement already satisfied: pandas in c:\\users\\user\\anaconda\\lib\\site-packages (from gradio) (1.4.4)\n",
      "Requirement already satisfied: semantic-version in c:\\users\\user\\anaconda\\lib\\site-packages (from gradio) (2.10.0)\n",
      "Requirement already satisfied: huggingface-hub>=0.13.0 in c:\\users\\user\\anaconda\\lib\\site-packages (from gradio) (0.13.3)\n",
      "Requirement already satisfied: fastapi in c:\\users\\user\\anaconda\\lib\\site-packages (from gradio) (0.95.0)\n",
      "Requirement already satisfied: aiofiles in c:\\users\\user\\anaconda\\lib\\site-packages (from gradio) (23.1.0)\n",
      "Requirement already satisfied: numpy in c:\\users\\user\\anaconda\\lib\\site-packages (from gradio) (1.21.5)\n",
      "Requirement already satisfied: pillow in c:\\users\\user\\anaconda\\lib\\site-packages (from gradio) (9.2.0)\n",
      "Requirement already satisfied: aiohttp in c:\\users\\user\\anaconda\\lib\\site-packages (from gradio) (3.8.4)\n",
      "Requirement already satisfied: gradio-client>=0.0.5 in c:\\users\\user\\anaconda\\lib\\site-packages (from gradio) (0.0.5)\n",
      "Requirement already satisfied: python-multipart in c:\\users\\user\\anaconda\\lib\\site-packages (from gradio) (0.0.6)\n",
      "Requirement already satisfied: uvicorn in c:\\users\\user\\anaconda\\lib\\site-packages (from gradio) (0.21.1)\n",
      "Requirement already satisfied: typing-extensions in c:\\users\\user\\anaconda\\lib\\site-packages (from gradio) (4.3.0)\n",
      "Requirement already satisfied: websockets>=10.0 in c:\\users\\user\\anaconda\\lib\\site-packages (from gradio) (11.0)\n",
      "Requirement already satisfied: orjson in c:\\users\\user\\anaconda\\lib\\site-packages (from gradio) (3.8.9)\n",
      "Requirement already satisfied: toolz in c:\\users\\user\\anaconda\\lib\\site-packages (from altair>=4.2.0->gradio) (0.11.2)\n",
      "Requirement already satisfied: jsonschema>=3.0 in c:\\users\\user\\anaconda\\lib\\site-packages (from altair>=4.2.0->gradio) (4.16.0)\n",
      "Requirement already satisfied: entrypoints in c:\\users\\user\\anaconda\\lib\\site-packages (from altair>=4.2.0->gradio) (0.4)\n",
      "Requirement already satisfied: fsspec in c:\\users\\user\\anaconda\\lib\\site-packages (from gradio-client>=0.0.5->gradio) (2022.7.1)\n",
      "Requirement already satisfied: packaging in c:\\users\\user\\anaconda\\lib\\site-packages (from gradio-client>=0.0.5->gradio) (21.3)\n",
      "Requirement already satisfied: filelock in c:\\users\\user\\anaconda\\lib\\site-packages (from huggingface-hub>=0.13.0->gradio) (3.6.0)\n",
      "Requirement already satisfied: tqdm>=4.42.1 in c:\\users\\user\\anaconda\\lib\\site-packages (from huggingface-hub>=0.13.0->gradio) (4.64.1)\n",
      "Requirement already satisfied: mdurl~=0.1 in c:\\users\\user\\anaconda\\lib\\site-packages (from markdown-it-py[linkify]>=2.0.0->gradio) (0.1.2)\n",
      "Requirement already satisfied: linkify-it-py<3,>=1 in c:\\users\\user\\anaconda\\lib\\site-packages (from markdown-it-py[linkify]>=2.0.0->gradio) (2.0.0)\n",
      "Requirement already satisfied: pytz>=2020.1 in c:\\users\\user\\anaconda\\lib\\site-packages (from pandas->gradio) (2022.1)\n",
      "Requirement already satisfied: python-dateutil>=2.8.1 in c:\\users\\user\\anaconda\\lib\\site-packages (from pandas->gradio) (2.8.2)\n",
      "Requirement already satisfied: charset-normalizer<4.0,>=2.0 in c:\\users\\user\\anaconda\\lib\\site-packages (from aiohttp->gradio) (2.0.4)\n",
      "Requirement already satisfied: aiosignal>=1.1.2 in c:\\users\\user\\anaconda\\lib\\site-packages (from aiohttp->gradio) (1.3.1)\n",
      "Requirement already satisfied: attrs>=17.3.0 in c:\\users\\user\\anaconda\\lib\\site-packages (from aiohttp->gradio) (21.4.0)\n",
      "Requirement already satisfied: async-timeout<5.0,>=4.0.0a3 in c:\\users\\user\\anaconda\\lib\\site-packages (from aiohttp->gradio) (4.0.2)\n",
      "Requirement already satisfied: multidict<7.0,>=4.5 in c:\\users\\user\\anaconda\\lib\\site-packages (from aiohttp->gradio) (6.0.4)\n",
      "Requirement already satisfied: yarl<2.0,>=1.0 in c:\\users\\user\\anaconda\\lib\\site-packages (from aiohttp->gradio) (1.8.2)\n",
      "Requirement already satisfied: frozenlist>=1.1.1 in c:\\users\\user\\anaconda\\lib\\site-packages (from aiohttp->gradio) (1.3.3)\n",
      "Requirement already satisfied: starlette<0.27.0,>=0.26.1 in c:\\users\\user\\anaconda\\lib\\site-packages (from fastapi->gradio) (0.26.1)\n",
      "Requirement already satisfied: certifi in c:\\users\\user\\anaconda\\lib\\site-packages (from httpx->gradio) (2022.9.14)\n",
      "Requirement already satisfied: sniffio in c:\\users\\user\\anaconda\\lib\\site-packages (from httpx->gradio) (1.2.0)\n",
      "Requirement already satisfied: httpcore<0.17.0,>=0.15.0 in c:\\users\\user\\anaconda\\lib\\site-packages (from httpx->gradio) (0.16.3)\n",
      "Requirement already satisfied: rfc3986[idna2008]<2,>=1.3 in c:\\users\\user\\anaconda\\lib\\site-packages (from httpx->gradio) (1.5.0)\n",
      "Requirement already satisfied: pyparsing>=2.2.1 in c:\\users\\user\\anaconda\\lib\\site-packages (from matplotlib->gradio) (3.0.9)\n",
      "Requirement already satisfied: cycler>=0.10 in c:\\users\\user\\anaconda\\lib\\site-packages (from matplotlib->gradio) (0.11.0)\n",
      "Requirement already satisfied: fonttools>=4.22.0 in c:\\users\\user\\anaconda\\lib\\site-packages (from matplotlib->gradio) (4.25.0)\n",
      "Requirement already satisfied: kiwisolver>=1.0.1 in c:\\users\\user\\anaconda\\lib\\site-packages (from matplotlib->gradio) (1.4.2)\n",
      "Requirement already satisfied: idna<4,>=2.5 in c:\\users\\user\\anaconda\\lib\\site-packages (from requests->gradio) (3.3)\n",
      "Requirement already satisfied: urllib3<1.27,>=1.21.1 in c:\\users\\user\\anaconda\\lib\\site-packages (from requests->gradio) (1.26.11)\n",
      "Requirement already satisfied: click>=7.0 in c:\\users\\user\\anaconda\\lib\\site-packages (from uvicorn->gradio) (8.0.4)\n",
      "Requirement already satisfied: h11>=0.8 in c:\\users\\user\\anaconda\\lib\\site-packages (from uvicorn->gradio) (0.14.0)\n",
      "Requirement already satisfied: colorama in c:\\users\\user\\anaconda\\lib\\site-packages (from click>=7.0->uvicorn->gradio) (0.4.5)\n",
      "Requirement already satisfied: anyio<5.0,>=3.0 in c:\\users\\user\\anaconda\\lib\\site-packages (from httpcore<0.17.0,>=0.15.0->httpx->gradio) (3.5.0)\n",
      "Requirement already satisfied: pyrsistent!=0.17.0,!=0.17.1,!=0.17.2,>=0.14.0 in c:\\users\\user\\anaconda\\lib\\site-packages (from jsonschema>=3.0->altair>=4.2.0->gradio) (0.18.0)\n",
      "Requirement already satisfied: uc-micro-py in c:\\users\\user\\anaconda\\lib\\site-packages (from linkify-it-py<3,>=1->markdown-it-py[linkify]>=2.0.0->gradio) (1.0.1)\n",
      "Requirement already satisfied: six>=1.5 in c:\\users\\user\\anaconda\\lib\\site-packages (from python-dateutil>=2.8.1->pandas->gradio) (1.16.0)\n"
     ]
    },
    {
     "name": "stderr",
     "output_type": "stream",
     "text": [
      "WARNING: Ignoring invalid distribution -lotly (c:\\users\\user\\anaconda\\lib\\site-packages)"
     ]
    }
   ],
   "source": [
    "! pip install gradio"
   ]
  },
  {
   "cell_type": "code",
   "execution_count": null,
   "id": "4653fa35",
   "metadata": {},
   "outputs": [
    {
     "name": "stdout",
     "output_type": "stream",
     "text": [
      "Running on local URL:  http://127.0.0.1:7860\n"
     ]
    }
   ],
   "source": [
    "import gradio as gr\n",
    "import os\n",
    "\n",
    "#App interface\n",
    "with gr.Blocks() as demo:\n",
    "\n",
    "  gr.Markdown(\n",
    "    \"\"\"\n",
    "    # Welcome Cherished User 👋 !\n",
    "    Start predicting customer churn.\n",
    "    \"\"\")\n",
    "  with gr.Row():\n",
    "        Contract = gr.Dropdown(label=\"Contract\", choices=[\"Month-to-month\", \"One year\", \"Two year\"])\n",
    "        tenure = gr.Slider(label=\"Tenure (months)\", minimum=0, maximum=72, step=1, interactive=True)\n",
    "        MonthlyCharges = gr.Number(label=\"Monthly Charges\")\n",
    "        TotalCharges = gr.Number(label=\"Total Charges\")\n",
    "\n",
    "  with gr.Row():\n",
    "        gender = gr.Dropdown(label=\"Gender\", choices=[\"Male\", \"Female\"])\n",
    "        SeniorCitizen = gr.Radio(label=\"Senior Citizen\", choices=[\"Yes\", \"No\"])\n",
    "        Partner = gr.Radio(label=\"Partner\", choices=[\"Yes\", \"No\"])\n",
    "        Dependents = gr.Radio(label=\"Dependents\", choices=[\"Yes\", \"No\"]) \n",
    "\n",
    "  with gr.Row():\n",
    "        InternetService = gr.Dropdown(label=\"Internet Service\", choices=[\"DSL\", \"Fiber Optic\", \"No\"])\n",
    "        OnlineSecurity = gr.Dropdown(label=\"Online Security\", choices=[\"Yes\", \"No\", \"No internet service\"])\n",
    "        OnlineBackup = gr.Dropdown(label=\"Online Backup\", choices=[\"Yes\", \"No\", \"No internet service\"])\n",
    "        DeviceProtection = gr.Dropdown(label=\"Device Protection\", choices=[\"Yes\", \"No\", \"No internet service\"])\n",
    "        TechSupport = gr.Dropdown(label=\"Tech Support\", choices=[\"Yes\", \"No\", \"No internet service\"])\n",
    "        StreamingTV = gr.Dropdown(label=\"TV Streaming\", choices=[\"Yes\", \"No\", \"No internet service\"])\n",
    "        StreamingMovies = gr.Dropdown(label=\"Movie Streaming\", choices=[\"Yes\", \"No\", \"No internet service\"])         \n",
    "\n",
    "  with gr.Row():\n",
    "        PhoneService = gr.Radio(label=\"Phone Service\", choices=[\"Yes\", \"No\"])\n",
    "        MultipleLines = gr.Dropdown(label=\"Multiple Lines\", choices=[\n",
    "                                    \"Yes\", \"No\", \"No phone service\"])  \n",
    "        \n",
    "  with gr.Row():\n",
    "        PaperlessBilling = gr.Radio(label=\"Paperless Billing\", choices=[\"Yes\", \"No\"])\n",
    "        PaymentMethod = gr.Dropdown(label=\"Payment Method\", choices=[\"Electronic check\", \"Mailed check\", \"Bank transfer (automatic)\", \"Credit card (automatic)\"])\n",
    "\n",
    "  submit_btn = gr.Button(\"Predict Customer Churn\").style(full_width=True)       \n",
    "\n",
    "demo.launch(inbrowser=True, share=True)        \n"
   ]
  }
 ],
 "metadata": {
  "kernelspec": {
   "display_name": "Python 3 (ipykernel)",
   "language": "python",
   "name": "python3"
  },
  "language_info": {
   "codemirror_mode": {
    "name": "ipython",
    "version": 3
   },
   "file_extension": ".py",
   "mimetype": "text/x-python",
   "name": "python",
   "nbconvert_exporter": "python",
   "pygments_lexer": "ipython3",
   "version": "3.9.13"
  }
 },
 "nbformat": 4,
 "nbformat_minor": 5
}
